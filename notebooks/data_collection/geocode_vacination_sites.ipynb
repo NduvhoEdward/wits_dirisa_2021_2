{
 "cells": [
  {
   "cell_type": "code",
   "execution_count": 1,
   "source": [
    "import pandas as pd\r\n",
    "import geopandas as gpd\r\n",
    "import geocoder \r\n",
    "import matplotlib.pyplot as plt"
   ],
   "outputs": [],
   "metadata": {}
  },
  {
   "cell_type": "code",
   "execution_count": 2,
   "source": [
    "# Load vaccination site data\r\n",
    "\r\n",
    "v_site = pd.read_csv('../../data/cleaned/sacoronavirus_vaccination_sites.csv')\r\n",
    "print(v_site.shape)\r\n",
    "v_site.head(10)"
   ],
   "outputs": [
    {
     "output_type": "stream",
     "name": "stdout",
     "text": [
      "(1026, 10)\n"
     ]
    },
    {
     "output_type": "execute_result",
     "data": {
      "text/plain": [
       "   Unnamed: 0    District               Sub-District  Vaccination Site Name  \\\n",
       "0           0   C Hani DM           Enoch Mgijima LM  ec Lizo Ngcana Clinic   \n",
       "1           1   C Hani DM           Enoch Mgijima LM    ec Lesseyton Clinic   \n",
       "2           2  O Tambo DM  King Sabata Dalindyebo LM          ec SOS Clinic   \n",
       "3           3  O Tambo DM  King Sabata Dalindyebo LM      ec Ntshele Clinic   \n",
       "4           4  O Tambo DM  King Sabata Dalindyebo LM      ec Sangoni Clinic   \n",
       "5           5  O Tambo DM  King Sabata Dalindyebo LM    ec Qokolweni Clinic   \n",
       "6           6  O Tambo DM  King Sabata Dalindyebo LM      ec Maxwele Clinic   \n",
       "7           7  O Tambo DM  King Sabata Dalindyebo LM        ec Mpeko Clinic   \n",
       "8           8  O Tambo DM  King Sabata Dalindyebo LM     ec Ngqwarha Clinic   \n",
       "9           9  O Tambo DM  King Sabata Dalindyebo LM    ec Ngcengane Clinic   \n",
       "\n",
       "  Type of site Pfizer or J&J Start Date Site Active (Yes/No)  \\\n",
       "0       Clinic        Pfizer  7/19/2021   To start next week   \n",
       "1       Clinic        Pfizer  7/19/2021   To start next week   \n",
       "2       Clinic           J&J  6/16/2021                  Yes   \n",
       "3       Clinic           J&J  6/16/2021                  Yes   \n",
       "4       Clinic           J&J  6/16/2021                  Yes   \n",
       "5       Clinic           J&J  6/16/2021                  Yes   \n",
       "6       Clinic           J&J  6/16/2021                  Yes   \n",
       "7       Clinic           J&J  6/16/2021                  Yes   \n",
       "8       Clinic           J&J  6/16/2021                  Yes   \n",
       "9       Clinic           J&J  6/16/2021                  Yes   \n",
       "\n",
       "  Open Days per week Capacity per day  \n",
       "0             5 days             80.0  \n",
       "1             5 days             80.0  \n",
       "2             5 days             40.0  \n",
       "3             5 days             40.0  \n",
       "4             5 days             40.0  \n",
       "5             5 days             40.0  \n",
       "6             5 days             40.0  \n",
       "7             5 days             40.0  \n",
       "8             5 days             40.0  \n",
       "9             5 days             40.0  "
      ],
      "text/html": [
       "<div>\n",
       "<style scoped>\n",
       "    .dataframe tbody tr th:only-of-type {\n",
       "        vertical-align: middle;\n",
       "    }\n",
       "\n",
       "    .dataframe tbody tr th {\n",
       "        vertical-align: top;\n",
       "    }\n",
       "\n",
       "    .dataframe thead th {\n",
       "        text-align: right;\n",
       "    }\n",
       "</style>\n",
       "<table border=\"1\" class=\"dataframe\">\n",
       "  <thead>\n",
       "    <tr style=\"text-align: right;\">\n",
       "      <th></th>\n",
       "      <th>Unnamed: 0</th>\n",
       "      <th>District</th>\n",
       "      <th>Sub-District</th>\n",
       "      <th>Vaccination Site Name</th>\n",
       "      <th>Type of site</th>\n",
       "      <th>Pfizer or J&amp;J</th>\n",
       "      <th>Start Date</th>\n",
       "      <th>Site Active (Yes/No)</th>\n",
       "      <th>Open Days per week</th>\n",
       "      <th>Capacity per day</th>\n",
       "    </tr>\n",
       "  </thead>\n",
       "  <tbody>\n",
       "    <tr>\n",
       "      <th>0</th>\n",
       "      <td>0</td>\n",
       "      <td>C Hani DM</td>\n",
       "      <td>Enoch Mgijima LM</td>\n",
       "      <td>ec Lizo Ngcana Clinic</td>\n",
       "      <td>Clinic</td>\n",
       "      <td>Pfizer</td>\n",
       "      <td>7/19/2021</td>\n",
       "      <td>To start next week</td>\n",
       "      <td>5 days</td>\n",
       "      <td>80.0</td>\n",
       "    </tr>\n",
       "    <tr>\n",
       "      <th>1</th>\n",
       "      <td>1</td>\n",
       "      <td>C Hani DM</td>\n",
       "      <td>Enoch Mgijima LM</td>\n",
       "      <td>ec Lesseyton Clinic</td>\n",
       "      <td>Clinic</td>\n",
       "      <td>Pfizer</td>\n",
       "      <td>7/19/2021</td>\n",
       "      <td>To start next week</td>\n",
       "      <td>5 days</td>\n",
       "      <td>80.0</td>\n",
       "    </tr>\n",
       "    <tr>\n",
       "      <th>2</th>\n",
       "      <td>2</td>\n",
       "      <td>O Tambo DM</td>\n",
       "      <td>King Sabata Dalindyebo LM</td>\n",
       "      <td>ec SOS Clinic</td>\n",
       "      <td>Clinic</td>\n",
       "      <td>J&amp;J</td>\n",
       "      <td>6/16/2021</td>\n",
       "      <td>Yes</td>\n",
       "      <td>5 days</td>\n",
       "      <td>40.0</td>\n",
       "    </tr>\n",
       "    <tr>\n",
       "      <th>3</th>\n",
       "      <td>3</td>\n",
       "      <td>O Tambo DM</td>\n",
       "      <td>King Sabata Dalindyebo LM</td>\n",
       "      <td>ec Ntshele Clinic</td>\n",
       "      <td>Clinic</td>\n",
       "      <td>J&amp;J</td>\n",
       "      <td>6/16/2021</td>\n",
       "      <td>Yes</td>\n",
       "      <td>5 days</td>\n",
       "      <td>40.0</td>\n",
       "    </tr>\n",
       "    <tr>\n",
       "      <th>4</th>\n",
       "      <td>4</td>\n",
       "      <td>O Tambo DM</td>\n",
       "      <td>King Sabata Dalindyebo LM</td>\n",
       "      <td>ec Sangoni Clinic</td>\n",
       "      <td>Clinic</td>\n",
       "      <td>J&amp;J</td>\n",
       "      <td>6/16/2021</td>\n",
       "      <td>Yes</td>\n",
       "      <td>5 days</td>\n",
       "      <td>40.0</td>\n",
       "    </tr>\n",
       "    <tr>\n",
       "      <th>5</th>\n",
       "      <td>5</td>\n",
       "      <td>O Tambo DM</td>\n",
       "      <td>King Sabata Dalindyebo LM</td>\n",
       "      <td>ec Qokolweni Clinic</td>\n",
       "      <td>Clinic</td>\n",
       "      <td>J&amp;J</td>\n",
       "      <td>6/16/2021</td>\n",
       "      <td>Yes</td>\n",
       "      <td>5 days</td>\n",
       "      <td>40.0</td>\n",
       "    </tr>\n",
       "    <tr>\n",
       "      <th>6</th>\n",
       "      <td>6</td>\n",
       "      <td>O Tambo DM</td>\n",
       "      <td>King Sabata Dalindyebo LM</td>\n",
       "      <td>ec Maxwele Clinic</td>\n",
       "      <td>Clinic</td>\n",
       "      <td>J&amp;J</td>\n",
       "      <td>6/16/2021</td>\n",
       "      <td>Yes</td>\n",
       "      <td>5 days</td>\n",
       "      <td>40.0</td>\n",
       "    </tr>\n",
       "    <tr>\n",
       "      <th>7</th>\n",
       "      <td>7</td>\n",
       "      <td>O Tambo DM</td>\n",
       "      <td>King Sabata Dalindyebo LM</td>\n",
       "      <td>ec Mpeko Clinic</td>\n",
       "      <td>Clinic</td>\n",
       "      <td>J&amp;J</td>\n",
       "      <td>6/16/2021</td>\n",
       "      <td>Yes</td>\n",
       "      <td>5 days</td>\n",
       "      <td>40.0</td>\n",
       "    </tr>\n",
       "    <tr>\n",
       "      <th>8</th>\n",
       "      <td>8</td>\n",
       "      <td>O Tambo DM</td>\n",
       "      <td>King Sabata Dalindyebo LM</td>\n",
       "      <td>ec Ngqwarha Clinic</td>\n",
       "      <td>Clinic</td>\n",
       "      <td>J&amp;J</td>\n",
       "      <td>6/16/2021</td>\n",
       "      <td>Yes</td>\n",
       "      <td>5 days</td>\n",
       "      <td>40.0</td>\n",
       "    </tr>\n",
       "    <tr>\n",
       "      <th>9</th>\n",
       "      <td>9</td>\n",
       "      <td>O Tambo DM</td>\n",
       "      <td>King Sabata Dalindyebo LM</td>\n",
       "      <td>ec Ngcengane Clinic</td>\n",
       "      <td>Clinic</td>\n",
       "      <td>J&amp;J</td>\n",
       "      <td>6/16/2021</td>\n",
       "      <td>Yes</td>\n",
       "      <td>5 days</td>\n",
       "      <td>40.0</td>\n",
       "    </tr>\n",
       "  </tbody>\n",
       "</table>\n",
       "</div>"
      ]
     },
     "metadata": {},
     "execution_count": 2
    }
   ],
   "metadata": {}
  },
  {
   "cell_type": "code",
   "execution_count": 25,
   "source": [
    "# Test geocoding\r\n",
    "\r\n",
    "#search = v_site['Vaccination Site Name'][0] + \" Ngqushwa LM, South Africa\"\r\n",
    "\r\n",
    "\r\n",
    "search = \"Wesley Clinic, Ngqushwa LM, South Africa \"\r\n",
    "\r\n",
    "print(search)\r\n",
    "\r\n",
    "g = geocoder.bing(search, key=\"AtQwmq9_62aeu5WWmT4gwSlEVL22WsnR_RxrRokFgqVMvDe0Q3uGWNmCOKErz1Re\")\r\n",
    "\r\n",
    "g.latlng\r\n"
   ],
   "outputs": [
    {
     "output_type": "stream",
     "name": "stdout",
     "text": [
      "Wesley Clinic, Ngqushwa LM, South Africa \n"
     ]
    },
    {
     "output_type": "execute_result",
     "data": {
      "text/plain": [
       "[-33.31734, 27.34098]"
      ]
     },
     "metadata": {},
     "execution_count": 25
    }
   ],
   "metadata": {}
  },
  {
   "cell_type": "code",
   "execution_count": 23,
   "source": [
    "v_site.loc[v_site['Vaccination Site Name'] == 'ec Wesley Clinic']"
   ],
   "outputs": [
    {
     "output_type": "execute_result",
     "data": {
      "text/plain": [
       "     Unnamed: 0     District Sub-District Vaccination Site Name Type of site  \\\n",
       "208         208  Amathole DM  Ngqushwa LM      ec Wesley Clinic       Clinic   \n",
       "\n",
       "    Pfizer or J&J           Start Date Site Active (Yes/No)  \\\n",
       "208           J&J  2021-06-09 00:00:00                  Yes   \n",
       "\n",
       "    Open Days per week Capacity per day  \n",
       "208             5 days             40.0  "
      ],
      "text/html": [
       "<div>\n",
       "<style scoped>\n",
       "    .dataframe tbody tr th:only-of-type {\n",
       "        vertical-align: middle;\n",
       "    }\n",
       "\n",
       "    .dataframe tbody tr th {\n",
       "        vertical-align: top;\n",
       "    }\n",
       "\n",
       "    .dataframe thead th {\n",
       "        text-align: right;\n",
       "    }\n",
       "</style>\n",
       "<table border=\"1\" class=\"dataframe\">\n",
       "  <thead>\n",
       "    <tr style=\"text-align: right;\">\n",
       "      <th></th>\n",
       "      <th>Unnamed: 0</th>\n",
       "      <th>District</th>\n",
       "      <th>Sub-District</th>\n",
       "      <th>Vaccination Site Name</th>\n",
       "      <th>Type of site</th>\n",
       "      <th>Pfizer or J&amp;J</th>\n",
       "      <th>Start Date</th>\n",
       "      <th>Site Active (Yes/No)</th>\n",
       "      <th>Open Days per week</th>\n",
       "      <th>Capacity per day</th>\n",
       "    </tr>\n",
       "  </thead>\n",
       "  <tbody>\n",
       "    <tr>\n",
       "      <th>208</th>\n",
       "      <td>208</td>\n",
       "      <td>Amathole DM</td>\n",
       "      <td>Ngqushwa LM</td>\n",
       "      <td>ec Wesley Clinic</td>\n",
       "      <td>Clinic</td>\n",
       "      <td>J&amp;J</td>\n",
       "      <td>2021-06-09 00:00:00</td>\n",
       "      <td>Yes</td>\n",
       "      <td>5 days</td>\n",
       "      <td>40.0</td>\n",
       "    </tr>\n",
       "  </tbody>\n",
       "</table>\n",
       "</div>"
      ]
     },
     "metadata": {},
     "execution_count": 23
    }
   ],
   "metadata": {}
  },
  {
   "cell_type": "code",
   "execution_count": 26,
   "source": [
    "# It works, now can create an array with all the sites\r\n",
    "\r\n",
    "# sites = {}\r\n",
    "\r\n",
    "# key = \"AtQwmq9_62aeu5WWmT4gwSlEVL22WsnR_RxrRokFgqVMvDe0Q3uGWNmCOKErz1Re\"\r\n",
    "\r\n",
    "# progress = 0\r\n",
    "\r\n",
    "# for site in v_site['Vaccination Site Name']:\r\n",
    "\r\n",
    "#     sub_dist = v_site.loc[v_site['Vaccination Site Name'] == site]['Sub-District']\r\n",
    "\r\n",
    "#     if(progress % 10 == 0):\r\n",
    "#         print(progress*100/1026)\r\n",
    "#     progress = progress + 1\r\n",
    "#     g = None\r\n",
    "#     try:\r\n",
    "#         g = geocoder.bing(site + \", \" + sub_dist + \", South Africa\", key=key)\r\n",
    "#         sites[site] = g.latlng\r\n",
    "#     except: \r\n",
    "#         sites[site] = None\r\n",
    "#         print(\"Not Found:\", site)\r\n",
    "\r\n"
   ],
   "outputs": [
    {
     "output_type": "stream",
     "name": "stdout",
     "text": [
      "0.0\n",
      "0.9746588693957114\n",
      "1.949317738791423\n",
      "2.9239766081871346\n",
      "3.898635477582846\n",
      "4.8732943469785575\n",
      "5.847953216374269\n",
      "6.822612085769981\n",
      "7.797270955165692\n",
      "8.771929824561404\n",
      "9.746588693957115\n",
      "10.721247563352826\n",
      "11.695906432748538\n",
      "12.670565302144249\n",
      "13.645224171539962\n",
      "14.619883040935672\n",
      "15.594541910331383\n",
      "16.569200779727094\n",
      "17.54385964912281\n",
      "18.51851851851852\n",
      "19.49317738791423\n",
      "20.46783625730994\n",
      "21.44249512670565\n",
      "22.417153996101366\n",
      "23.391812865497077\n",
      "24.366471734892787\n",
      "25.341130604288498\n",
      "26.31578947368421\n",
      "27.290448343079923\n",
      "28.265107212475634\n",
      "29.239766081871345\n",
      "30.214424951267056\n"
     ]
    },
    {
     "output_type": "stream",
     "name": "stderr",
     "text": [
      "Status code 429 from http://dev.virtualearth.net/REST/v1/Locations: ERROR - 429 Client Error: Too Many Requests for url: http://dev.virtualearth.net/REST/v1/Locations?q=Worcester+Town+Hall%2C+Breede+Valley+Municipality%2C+South+Africa&o=json&inclnb=1&key=AtQwmq9_62aeu5WWmT4gwSlEVL22WsnR_RxrRokFgqVMvDe0Q3uGWNmCOKErz1Re&maxResults=1\n"
     ]
    },
    {
     "output_type": "stream",
     "name": "stdout",
     "text": [
      "31.189083820662766\n",
      "32.16374269005848\n",
      "33.13840155945419\n",
      "34.113060428849906\n",
      "35.08771929824562\n",
      "36.06237816764133\n",
      "37.03703703703704\n",
      "38.01169590643275\n",
      "38.98635477582846\n",
      "39.96101364522417\n",
      "40.93567251461988\n",
      "41.91033138401559\n",
      "42.8849902534113\n",
      "43.85964912280702\n",
      "44.83430799220273\n",
      "45.80896686159844\n",
      "46.78362573099415\n",
      "47.758284600389864\n"
     ]
    },
    {
     "output_type": "stream",
     "name": "stderr",
     "text": [
      "Status code 400 from http://dev.virtualearth.net/REST/v1/Locations: ERROR - 400 Client Error: Bad Request for url: http://dev.virtualearth.net/REST/v1/Locations?q=Demar+Building%2C+Main+Road%2C+Knysna%2C+Bitou+LM%2C+South+Africa&q=Demar+Building%2C+Main+Road%2C+Knysna%2C+Knysna+LM%2C+South+Africa&o=json&inclnb=1&key=AtQwmq9_62aeu5WWmT4gwSlEVL22WsnR_RxrRokFgqVMvDe0Q3uGWNmCOKErz1Re&maxResults=1\n"
     ]
    },
    {
     "output_type": "stream",
     "name": "stdout",
     "text": [
      "48.732943469785575\n"
     ]
    },
    {
     "output_type": "stream",
     "name": "stderr",
     "text": [
      "Status code 400 from http://dev.virtualearth.net/REST/v1/Locations: ERROR - 400 Client Error: Bad Request for url: http://dev.virtualearth.net/REST/v1/Locations?q=Demar+Building%2C+Main+Road%2C+Knysna%2C+Bitou+LM%2C+South+Africa&q=Demar+Building%2C+Main+Road%2C+Knysna%2C+Knysna+LM%2C+South+Africa&o=json&inclnb=1&key=AtQwmq9_62aeu5WWmT4gwSlEVL22WsnR_RxrRokFgqVMvDe0Q3uGWNmCOKErz1Re&maxResults=1\n"
     ]
    },
    {
     "output_type": "stream",
     "name": "stdout",
     "text": [
      "49.707602339181285\n",
      "50.682261208576996\n",
      "51.65692007797271\n",
      "52.63157894736842\n",
      "53.606237816764136\n",
      "54.580896686159846\n",
      "55.55555555555556\n"
     ]
    },
    {
     "output_type": "stream",
     "name": "stderr",
     "text": [
      "Status code 400 from http://dev.virtualearth.net/REST/v1/Locations: ERROR - 400 Client Error: Bad Request for url: http://dev.virtualearth.net/REST/v1/Locations?q=Phillip+Moyo+CHC%2C+ekurhuleni+E%2C+South+Africa&q=Phillip+Moyo+CHC%2C+ekurhuleni+E%2C+South+Africa&o=json&inclnb=1&key=AtQwmq9_62aeu5WWmT4gwSlEVL22WsnR_RxrRokFgqVMvDe0Q3uGWNmCOKErz1Re&maxResults=1\n",
      "Status code 400 from http://dev.virtualearth.net/REST/v1/Locations: ERROR - 400 Client Error: Bad Request for url: http://dev.virtualearth.net/REST/v1/Locations?q=Phillip+Moyo+CHC%2C+ekurhuleni+E%2C+South+Africa&q=Phillip+Moyo+CHC%2C+ekurhuleni+E%2C+South+Africa&o=json&inclnb=1&key=AtQwmq9_62aeu5WWmT4gwSlEVL22WsnR_RxrRokFgqVMvDe0Q3uGWNmCOKErz1Re&maxResults=1\n"
     ]
    },
    {
     "output_type": "stream",
     "name": "stdout",
     "text": [
      "56.53021442495127\n",
      "57.50487329434698\n",
      "58.47953216374269\n",
      "59.4541910331384\n",
      "60.42884990253411\n",
      "61.40350877192982\n",
      "62.37816764132553\n",
      "63.35282651072125\n"
     ]
    },
    {
     "output_type": "stream",
     "name": "stderr",
     "text": [
      "Status code 400 from http://dev.virtualearth.net/REST/v1/Locations: ERROR - 400 Client Error: Bad Request for url: http://dev.virtualearth.net/REST/v1/Locations?q=Prof+ZK+Matthews+Hospital%2C+Dikgatlong+LM%2C+South+Africa&q=Prof+ZK+Matthews+Hospital%2C+Dikgatlong+LM%2C+South+Africa&q=Prof+ZK+Matthews+Hospital%2C+Dikgatlong+LM%2C+South+Africa&o=json&inclnb=1&key=AtQwmq9_62aeu5WWmT4gwSlEVL22WsnR_RxrRokFgqVMvDe0Q3uGWNmCOKErz1Re&maxResults=1\n",
      "Status code 400 from http://dev.virtualearth.net/REST/v1/Locations: ERROR - 400 Client Error: Bad Request for url: http://dev.virtualearth.net/REST/v1/Locations?q=Prof+ZK+Matthews+Hospital%2C+Dikgatlong+LM%2C+South+Africa&q=Prof+ZK+Matthews+Hospital%2C+Dikgatlong+LM%2C+South+Africa&q=Prof+ZK+Matthews+Hospital%2C+Dikgatlong+LM%2C+South+Africa&o=json&inclnb=1&key=AtQwmq9_62aeu5WWmT4gwSlEVL22WsnR_RxrRokFgqVMvDe0Q3uGWNmCOKErz1Re&maxResults=1\n"
     ]
    },
    {
     "output_type": "stream",
     "name": "stdout",
     "text": [
      "64.32748538011695\n"
     ]
    },
    {
     "output_type": "stream",
     "name": "stderr",
     "text": [
      "Status code 400 from http://dev.virtualearth.net/REST/v1/Locations: ERROR - 400 Client Error: Bad Request for url: http://dev.virtualearth.net/REST/v1/Locations?q=Prof+ZK+Matthews+Hospital%2C+Dikgatlong+LM%2C+South+Africa&q=Prof+ZK+Matthews+Hospital%2C+Dikgatlong+LM%2C+South+Africa&q=Prof+ZK+Matthews+Hospital%2C+Dikgatlong+LM%2C+South+Africa&o=json&inclnb=1&key=AtQwmq9_62aeu5WWmT4gwSlEVL22WsnR_RxrRokFgqVMvDe0Q3uGWNmCOKErz1Re&maxResults=1\n"
     ]
    },
    {
     "output_type": "stream",
     "name": "stdout",
     "text": [
      "65.30214424951266\n",
      "66.27680311890838\n"
     ]
    },
    {
     "output_type": "stream",
     "name": "stderr",
     "text": [
      "Status code 429 from http://dev.virtualearth.net/REST/v1/Locations: ERROR - 429 Client Error: Too Many Requests for url: http://dev.virtualearth.net/REST/v1/Locations?q=Itsoseng%2C+Disobotla%2C+South+Africa&o=json&inclnb=1&key=AtQwmq9_62aeu5WWmT4gwSlEVL22WsnR_RxrRokFgqVMvDe0Q3uGWNmCOKErz1Re&maxResults=1\n"
     ]
    },
    {
     "output_type": "stream",
     "name": "stdout",
     "text": [
      "67.25146198830409\n",
      "68.22612085769981\n",
      "69.20077972709552\n",
      "70.17543859649123\n",
      "71.15009746588694\n",
      "72.12475633528265\n",
      "73.09941520467837\n",
      "74.07407407407408\n",
      "75.04873294346979\n",
      "76.0233918128655\n",
      "76.99805068226121\n"
     ]
    },
    {
     "output_type": "stream",
     "name": "stderr",
     "text": [
      "Status code 400 from http://dev.virtualearth.net/REST/v1/Locations: ERROR - 400 Client Error: Bad Request for url: http://dev.virtualearth.net/REST/v1/Locations?q=Ndundulu+Clinic%2C+Mthonjaneni+LM%2C+South+Africa&q=Ndundulu+Clinic%2C+Mthonjaneni+LM%2C+South+Africa&o=json&inclnb=1&key=AtQwmq9_62aeu5WWmT4gwSlEVL22WsnR_RxrRokFgqVMvDe0Q3uGWNmCOKErz1Re&maxResults=1\n",
      "Status code 400 from http://dev.virtualearth.net/REST/v1/Locations: ERROR - 400 Client Error: Bad Request for url: http://dev.virtualearth.net/REST/v1/Locations?q=KwaMagwaza+Hospital%2C+Mthonjaneni+LM%2C+South+Africa&q=KwaMagwaza+Hospital%2C+Mthonjaneni+LM%2C+South+Africa&q=KwaMagwaza+Hospital%2C+Mthonjaneni+LM%2C+South+Africa&o=json&inclnb=1&key=AtQwmq9_62aeu5WWmT4gwSlEVL22WsnR_RxrRokFgqVMvDe0Q3uGWNmCOKErz1Re&maxResults=1\n",
      "Status code 400 from http://dev.virtualearth.net/REST/v1/Locations: ERROR - 400 Client Error: Bad Request for url: http://dev.virtualearth.net/REST/v1/Locations?q=Ndundulu+Clinic%2C+Mthonjaneni+LM%2C+South+Africa&q=Ndundulu+Clinic%2C+Mthonjaneni+LM%2C+South+Africa&o=json&inclnb=1&key=AtQwmq9_62aeu5WWmT4gwSlEVL22WsnR_RxrRokFgqVMvDe0Q3uGWNmCOKErz1Re&maxResults=1\n",
      "Status code 400 from http://dev.virtualearth.net/REST/v1/Locations: ERROR - 400 Client Error: Bad Request for url: http://dev.virtualearth.net/REST/v1/Locations?q=KwaMagwaza+Hospital%2C+Mthonjaneni+LM%2C+South+Africa&q=KwaMagwaza+Hospital%2C+Mthonjaneni+LM%2C+South+Africa&q=KwaMagwaza+Hospital%2C+Mthonjaneni+LM%2C+South+Africa&o=json&inclnb=1&key=AtQwmq9_62aeu5WWmT4gwSlEVL22WsnR_RxrRokFgqVMvDe0Q3uGWNmCOKErz1Re&maxResults=1\n"
     ]
    },
    {
     "output_type": "stream",
     "name": "stdout",
     "text": [
      "77.97270955165692\n"
     ]
    },
    {
     "output_type": "stream",
     "name": "stderr",
     "text": [
      "Status code 400 from http://dev.virtualearth.net/REST/v1/Locations: ERROR - 400 Client Error: Bad Request for url: http://dev.virtualearth.net/REST/v1/Locations?q=KwaMagwaza+Hospital%2C+Mthonjaneni+LM%2C+South+Africa&q=KwaMagwaza+Hospital%2C+Mthonjaneni+LM%2C+South+Africa&q=KwaMagwaza+Hospital%2C+Mthonjaneni+LM%2C+South+Africa&o=json&inclnb=1&key=AtQwmq9_62aeu5WWmT4gwSlEVL22WsnR_RxrRokFgqVMvDe0Q3uGWNmCOKErz1Re&maxResults=1\n"
     ]
    },
    {
     "output_type": "stream",
     "name": "stdout",
     "text": [
      "78.94736842105263\n",
      "79.92202729044834\n",
      "80.89668615984405\n",
      "81.87134502923976\n"
     ]
    },
    {
     "output_type": "stream",
     "name": "stderr",
     "text": [
      "Status code 400 from http://dev.virtualearth.net/REST/v1/Locations: ERROR - 400 Client Error: Bad Request for url: http://dev.virtualearth.net/REST/v1/Locations?q=Machadodorp+Clinic%2C+Emakhazeni+LM%2C+South+Africa&q=Machadodorp+Clinic%2C+Emakhazeni+LM%2C+South+Africa&o=json&inclnb=1&key=AtQwmq9_62aeu5WWmT4gwSlEVL22WsnR_RxrRokFgqVMvDe0Q3uGWNmCOKErz1Re&maxResults=1\n",
      "Status code 400 from http://dev.virtualearth.net/REST/v1/Locations: ERROR - 400 Client Error: Bad Request for url: http://dev.virtualearth.net/REST/v1/Locations?q=Sakhelwe+Clinic%2C+Emakhazeni+LM%2C+South+Africa&q=Sakhelwe+Clinic%2C+Emakhazeni+LM%2C+South+Africa&o=json&inclnb=1&key=AtQwmq9_62aeu5WWmT4gwSlEVL22WsnR_RxrRokFgqVMvDe0Q3uGWNmCOKErz1Re&maxResults=1\n"
     ]
    },
    {
     "output_type": "stream",
     "name": "stdout",
     "text": [
      "82.84600389863547\n",
      "83.82066276803118\n"
     ]
    },
    {
     "output_type": "stream",
     "name": "stderr",
     "text": [
      "Status code 400 from http://dev.virtualearth.net/REST/v1/Locations: ERROR - 400 Client Error: Bad Request for url: http://dev.virtualearth.net/REST/v1/Locations?q=Mmametlhake+Hospital%2C+Dr+JS+Moroka+LM%2C+South+Africa&q=Mmametlhake+Hospital%2C+Dr+JS+Moroka+LM%2C+South+Africa&o=json&inclnb=1&key=AtQwmq9_62aeu5WWmT4gwSlEVL22WsnR_RxrRokFgqVMvDe0Q3uGWNmCOKErz1Re&maxResults=1\n"
     ]
    },
    {
     "output_type": "stream",
     "name": "stdout",
     "text": [
      "84.7953216374269\n",
      "85.7699805068226\n",
      "86.74463937621833\n",
      "87.71929824561404\n"
     ]
    },
    {
     "output_type": "stream",
     "name": "stderr",
     "text": [
      "Status code 400 from http://dev.virtualearth.net/REST/v1/Locations: ERROR - 400 Client Error: Bad Request for url: http://dev.virtualearth.net/REST/v1/Locations?q=Mmametlhake+Hospital%2C+Dr+JS+Moroka+LM%2C+South+Africa&q=Mmametlhake+Hospital%2C+Dr+JS+Moroka+LM%2C+South+Africa&o=json&inclnb=1&key=AtQwmq9_62aeu5WWmT4gwSlEVL22WsnR_RxrRokFgqVMvDe0Q3uGWNmCOKErz1Re&maxResults=1\n"
     ]
    },
    {
     "output_type": "stream",
     "name": "stdout",
     "text": [
      "88.69395711500975\n",
      "89.66861598440546\n",
      "90.64327485380117\n"
     ]
    },
    {
     "output_type": "stream",
     "name": "stderr",
     "text": [
      "Status code 400 from http://dev.virtualearth.net/REST/v1/Locations: ERROR - 400 Client Error: Bad Request for url: http://dev.virtualearth.net/REST/v1/Locations?q=Machadodorp+Clinic%2C+Emakhazeni+LM%2C+South+Africa&q=Machadodorp+Clinic%2C+Emakhazeni+LM%2C+South+Africa&o=json&inclnb=1&key=AtQwmq9_62aeu5WWmT4gwSlEVL22WsnR_RxrRokFgqVMvDe0Q3uGWNmCOKErz1Re&maxResults=1\n",
      "Status code 400 from http://dev.virtualearth.net/REST/v1/Locations: ERROR - 400 Client Error: Bad Request for url: http://dev.virtualearth.net/REST/v1/Locations?q=Sakhelwe+Clinic%2C+Emakhazeni+LM%2C+South+Africa&q=Sakhelwe+Clinic%2C+Emakhazeni+LM%2C+South+Africa&o=json&inclnb=1&key=AtQwmq9_62aeu5WWmT4gwSlEVL22WsnR_RxrRokFgqVMvDe0Q3uGWNmCOKErz1Re&maxResults=1\n"
     ]
    },
    {
     "output_type": "stream",
     "name": "stdout",
     "text": [
      "91.61793372319688\n"
     ]
    },
    {
     "output_type": "stream",
     "name": "stderr",
     "text": [
      "Status code 400 from http://dev.virtualearth.net/REST/v1/Locations: ERROR - 400 Client Error: Bad Request for url: http://dev.virtualearth.net/REST/v1/Locations?q=Embhuleni+Hospital%2C+Chief+Albert+Luthuli+LM%2C+South+Africa&q=Embhuleni+Hospital%2C+Chief+Albert+Luthuli+LM%2C+South+Africa&o=json&inclnb=1&key=AtQwmq9_62aeu5WWmT4gwSlEVL22WsnR_RxrRokFgqVMvDe0Q3uGWNmCOKErz1Re&maxResults=1\n"
     ]
    },
    {
     "output_type": "stream",
     "name": "stdout",
     "text": [
      "92.5925925925926\n"
     ]
    },
    {
     "output_type": "stream",
     "name": "stderr",
     "text": [
      "Status code 400 from http://dev.virtualearth.net/REST/v1/Locations: ERROR - 400 Client Error: Bad Request for url: http://dev.virtualearth.net/REST/v1/Locations?q=Embhuleni+Hospital%2C+Chief+Albert+Luthuli+LM%2C+South+Africa&q=Embhuleni+Hospital%2C+Chief+Albert+Luthuli+LM%2C+South+Africa&o=json&inclnb=1&key=AtQwmq9_62aeu5WWmT4gwSlEVL22WsnR_RxrRokFgqVMvDe0Q3uGWNmCOKErz1Re&maxResults=1\n"
     ]
    },
    {
     "output_type": "stream",
     "name": "stdout",
     "text": [
      "93.5672514619883\n",
      "94.54191033138402\n",
      "95.51656920077973\n",
      "96.49122807017544\n"
     ]
    },
    {
     "output_type": "stream",
     "name": "stderr",
     "text": [
      "Status code 400 from http://dev.virtualearth.net/REST/v1/Locations: ERROR - 400 Client Error: Bad Request for url: http://dev.virtualearth.net/REST/v1/Locations?q=Groblersdal+Hospital%2C+E+Motsoaledi+LM%2C+South+Africa&q=Groblersdal+Hospital%2C+E+Motsoaledi+LM%2C+South+Africa&o=json&inclnb=1&key=AtQwmq9_62aeu5WWmT4gwSlEVL22WsnR_RxrRokFgqVMvDe0Q3uGWNmCOKErz1Re&maxResults=1\n",
      "Status code 400 from http://dev.virtualearth.net/REST/v1/Locations: ERROR - 400 Client Error: Bad Request for url: http://dev.virtualearth.net/REST/v1/Locations?q=Groblersdal+Hospital%2C+E+Motsoaledi+LM%2C+South+Africa&q=Groblersdal+Hospital%2C+E+Motsoaledi+LM%2C+South+Africa&o=json&inclnb=1&key=AtQwmq9_62aeu5WWmT4gwSlEVL22WsnR_RxrRokFgqVMvDe0Q3uGWNmCOKErz1Re&maxResults=1\n"
     ]
    },
    {
     "output_type": "stream",
     "name": "stdout",
     "text": [
      "97.46588693957115\n",
      "98.44054580896686\n",
      "99.41520467836257\n"
     ]
    }
   ],
   "metadata": {}
  },
  {
   "cell_type": "code",
   "execution_count": 5,
   "source": [
    "import json\r\n",
    "\r\n",
    "f = open('geocoded_sites2.json')\r\n",
    "\r\n",
    "sites = json.load(f)\r\n",
    "\r\n",
    "f.close()"
   ],
   "outputs": [],
   "metadata": {}
  },
  {
   "cell_type": "code",
   "execution_count": 6,
   "source": [
    "len(sites)"
   ],
   "outputs": [
    {
     "output_type": "execute_result",
     "data": {
      "text/plain": [
       "1014"
      ]
     },
     "metadata": {},
     "execution_count": 6
    }
   ],
   "metadata": {}
  },
  {
   "cell_type": "code",
   "execution_count": 28,
   "source": [
    "with open('geocoded_sites2.json', 'w') as f:\r\n",
    "    json.dump(sites, f)"
   ],
   "outputs": [],
   "metadata": {}
  },
  {
   "cell_type": "code",
   "execution_count": null,
   "source": [],
   "outputs": [],
   "metadata": {}
  },
  {
   "cell_type": "code",
   "execution_count": 7,
   "source": [
    "# Load this newly aquired information into a pandas dataframe\r\n",
    "\r\n",
    "import numpy as np\r\n",
    "\r\n",
    "sites_with_coords = pd.DataFrame()\r\n",
    "\r\n",
    "sites_with_coords = v_site.copy(deep=True)\r\n",
    "\r\n",
    "def getLatLon(site):\r\n",
    "    return sites[site]\r\n",
    "\r\n",
    "\r\n",
    "site_long = {}\r\n",
    "site_lat = {}\r\n",
    "for index, site in enumerate(sites):\r\n",
    "    try:\r\n",
    "        site_long[site] = sites[site][1]\r\n",
    "        site_lat[site] = sites[site][0]\r\n",
    "    except:\r\n",
    "        print(site, sites[site])\r\n",
    "\r\n",
    "sites_with_coords['Latitude'] = v_site['Vaccination Site Name'].map(site_lat)\r\n",
    "sites_with_coords['Longitude'] = v_site['Vaccination Site Name'].map(site_long)\r\n",
    "# for index, site in enumerate(sites):\r\n",
    "#     coords = sites[site]\r\n",
    "#     sites_with_coords.loc[sites_with_coords['Vaccination Site Name'] == site, ['Latitude']] = coords[0]\r\n",
    "#     sites_with_coords.loc[sites_with_coords['Vaccination Site Name'] == site, ['Longitude']] = coords[1]\r\n",
    "\r\n",
    "sites_with_coords\r\n",
    "    \r\n",
    "\r\n"
   ],
   "outputs": [
    {
     "output_type": "stream",
     "name": "stdout",
     "text": [
      "Worcester Town Hall None\n",
      "Demar Building, Main Road, Knysna None\n",
      "Phillip Moyo CHC None\n",
      "Prof ZK Matthews Hospital None\n",
      "Itsoseng None\n",
      "Ndundulu Clinic None\n",
      "KwaMagwaza Hospital None\n",
      "Machadodorp Clinic None\n",
      "Sakhelwe Clinic None\n",
      "Mmametlhake Hospital None\n",
      "Embhuleni Hospital None\n",
      "Groblersdal Hospital None\n"
     ]
    },
    {
     "output_type": "execute_result",
     "data": {
      "text/plain": [
       "      Unnamed: 0             District               Sub-District  \\\n",
       "0              0            C Hani DM           Enoch Mgijima LM   \n",
       "1              1            C Hani DM           Enoch Mgijima LM   \n",
       "2              2           O Tambo DM  King Sabata Dalindyebo LM   \n",
       "3              3           O Tambo DM  King Sabata Dalindyebo LM   \n",
       "4              4           O Tambo DM  King Sabata Dalindyebo LM   \n",
       "...          ...                  ...                        ...   \n",
       "1021          66   Waterberg District             Mogalakwena LM   \n",
       "1022          67      Mopani District         Greater Tzaneen LM   \n",
       "1023          68  Sekhukhune District       Fetakgomo Tubatse LM   \n",
       "1024          69      Vhembe District                 Makhado LM   \n",
       "1025          70   Waterberg District             Mogalakwena LM   \n",
       "\n",
       "      Vaccination Site Name           Type of site Pfizer or J&J  Start Date  \\\n",
       "0     ec Lizo Ngcana Clinic                 Clinic        Pfizer   7/19/2021   \n",
       "1       ec Lesseyton Clinic                 Clinic        Pfizer   7/19/2021   \n",
       "2             ec SOS Clinic                 Clinic           J&J   6/16/2021   \n",
       "3         ec Ntshele Clinic                 Clinic           J&J   6/16/2021   \n",
       "4         ec Sangoni Clinic                 Clinic           J&J   6/16/2021   \n",
       "...                     ...                    ...           ...         ...   \n",
       "1021     Voortrekker Team A   Mobile Outreach Site           J&J   7/12/2021   \n",
       "1022      Van Velden Team A   Mobile Outreach site           J&J  12/07/2021   \n",
       "1023     Mecklenburg team B  Mobile Outreach teams           J&J   7/12/2021   \n",
       "1024          Siloam Team A   Mobile Outreach team           J&J   7/12/2021   \n",
       "1025     FH odendala team A   Mobile Outreach team           J&J   7/12/2021   \n",
       "\n",
       "     Site Active (Yes/No) Open Days per week Capacity per day   Latitude  \\\n",
       "0      To start next week             5 days             80.0 -31.907130   \n",
       "1      To start next week             5 days             80.0 -31.848430   \n",
       "2                     Yes             5 days             40.0 -31.736370   \n",
       "3                     Yes             5 days             40.0 -31.674090   \n",
       "4                     Yes             5 days             40.0 -31.736370   \n",
       "...                   ...                ...              ...        ...   \n",
       "1021                  yes             4 days              NaN -24.309860   \n",
       "1022                  Yes             4 days              NaN -23.839720   \n",
       "1023                  Yes             4 days              NaN -28.996321   \n",
       "1024                  Yes             4 days              NaN -28.996321   \n",
       "1025                  yes             4 days              NaN -26.213550   \n",
       "\n",
       "      Longitude  \n",
       "0     26.962980  \n",
       "1     26.777950  \n",
       "2     28.468560  \n",
       "3     28.731040  \n",
       "4     28.468560  \n",
       "...         ...  \n",
       "1021  28.933010  \n",
       "1022  30.162380  \n",
       "1023  25.087143  \n",
       "1024  25.087143  \n",
       "1025  28.161610  \n",
       "\n",
       "[1026 rows x 12 columns]"
      ],
      "text/html": [
       "<div>\n",
       "<style scoped>\n",
       "    .dataframe tbody tr th:only-of-type {\n",
       "        vertical-align: middle;\n",
       "    }\n",
       "\n",
       "    .dataframe tbody tr th {\n",
       "        vertical-align: top;\n",
       "    }\n",
       "\n",
       "    .dataframe thead th {\n",
       "        text-align: right;\n",
       "    }\n",
       "</style>\n",
       "<table border=\"1\" class=\"dataframe\">\n",
       "  <thead>\n",
       "    <tr style=\"text-align: right;\">\n",
       "      <th></th>\n",
       "      <th>Unnamed: 0</th>\n",
       "      <th>District</th>\n",
       "      <th>Sub-District</th>\n",
       "      <th>Vaccination Site Name</th>\n",
       "      <th>Type of site</th>\n",
       "      <th>Pfizer or J&amp;J</th>\n",
       "      <th>Start Date</th>\n",
       "      <th>Site Active (Yes/No)</th>\n",
       "      <th>Open Days per week</th>\n",
       "      <th>Capacity per day</th>\n",
       "      <th>Latitude</th>\n",
       "      <th>Longitude</th>\n",
       "    </tr>\n",
       "  </thead>\n",
       "  <tbody>\n",
       "    <tr>\n",
       "      <th>0</th>\n",
       "      <td>0</td>\n",
       "      <td>C Hani DM</td>\n",
       "      <td>Enoch Mgijima LM</td>\n",
       "      <td>ec Lizo Ngcana Clinic</td>\n",
       "      <td>Clinic</td>\n",
       "      <td>Pfizer</td>\n",
       "      <td>7/19/2021</td>\n",
       "      <td>To start next week</td>\n",
       "      <td>5 days</td>\n",
       "      <td>80.0</td>\n",
       "      <td>-31.907130</td>\n",
       "      <td>26.962980</td>\n",
       "    </tr>\n",
       "    <tr>\n",
       "      <th>1</th>\n",
       "      <td>1</td>\n",
       "      <td>C Hani DM</td>\n",
       "      <td>Enoch Mgijima LM</td>\n",
       "      <td>ec Lesseyton Clinic</td>\n",
       "      <td>Clinic</td>\n",
       "      <td>Pfizer</td>\n",
       "      <td>7/19/2021</td>\n",
       "      <td>To start next week</td>\n",
       "      <td>5 days</td>\n",
       "      <td>80.0</td>\n",
       "      <td>-31.848430</td>\n",
       "      <td>26.777950</td>\n",
       "    </tr>\n",
       "    <tr>\n",
       "      <th>2</th>\n",
       "      <td>2</td>\n",
       "      <td>O Tambo DM</td>\n",
       "      <td>King Sabata Dalindyebo LM</td>\n",
       "      <td>ec SOS Clinic</td>\n",
       "      <td>Clinic</td>\n",
       "      <td>J&amp;J</td>\n",
       "      <td>6/16/2021</td>\n",
       "      <td>Yes</td>\n",
       "      <td>5 days</td>\n",
       "      <td>40.0</td>\n",
       "      <td>-31.736370</td>\n",
       "      <td>28.468560</td>\n",
       "    </tr>\n",
       "    <tr>\n",
       "      <th>3</th>\n",
       "      <td>3</td>\n",
       "      <td>O Tambo DM</td>\n",
       "      <td>King Sabata Dalindyebo LM</td>\n",
       "      <td>ec Ntshele Clinic</td>\n",
       "      <td>Clinic</td>\n",
       "      <td>J&amp;J</td>\n",
       "      <td>6/16/2021</td>\n",
       "      <td>Yes</td>\n",
       "      <td>5 days</td>\n",
       "      <td>40.0</td>\n",
       "      <td>-31.674090</td>\n",
       "      <td>28.731040</td>\n",
       "    </tr>\n",
       "    <tr>\n",
       "      <th>4</th>\n",
       "      <td>4</td>\n",
       "      <td>O Tambo DM</td>\n",
       "      <td>King Sabata Dalindyebo LM</td>\n",
       "      <td>ec Sangoni Clinic</td>\n",
       "      <td>Clinic</td>\n",
       "      <td>J&amp;J</td>\n",
       "      <td>6/16/2021</td>\n",
       "      <td>Yes</td>\n",
       "      <td>5 days</td>\n",
       "      <td>40.0</td>\n",
       "      <td>-31.736370</td>\n",
       "      <td>28.468560</td>\n",
       "    </tr>\n",
       "    <tr>\n",
       "      <th>...</th>\n",
       "      <td>...</td>\n",
       "      <td>...</td>\n",
       "      <td>...</td>\n",
       "      <td>...</td>\n",
       "      <td>...</td>\n",
       "      <td>...</td>\n",
       "      <td>...</td>\n",
       "      <td>...</td>\n",
       "      <td>...</td>\n",
       "      <td>...</td>\n",
       "      <td>...</td>\n",
       "      <td>...</td>\n",
       "    </tr>\n",
       "    <tr>\n",
       "      <th>1021</th>\n",
       "      <td>66</td>\n",
       "      <td>Waterberg District</td>\n",
       "      <td>Mogalakwena LM</td>\n",
       "      <td>Voortrekker Team A</td>\n",
       "      <td>Mobile Outreach Site</td>\n",
       "      <td>J&amp;J</td>\n",
       "      <td>7/12/2021</td>\n",
       "      <td>yes</td>\n",
       "      <td>4 days</td>\n",
       "      <td>NaN</td>\n",
       "      <td>-24.309860</td>\n",
       "      <td>28.933010</td>\n",
       "    </tr>\n",
       "    <tr>\n",
       "      <th>1022</th>\n",
       "      <td>67</td>\n",
       "      <td>Mopani District</td>\n",
       "      <td>Greater Tzaneen LM</td>\n",
       "      <td>Van Velden Team A</td>\n",
       "      <td>Mobile Outreach site</td>\n",
       "      <td>J&amp;J</td>\n",
       "      <td>12/07/2021</td>\n",
       "      <td>Yes</td>\n",
       "      <td>4 days</td>\n",
       "      <td>NaN</td>\n",
       "      <td>-23.839720</td>\n",
       "      <td>30.162380</td>\n",
       "    </tr>\n",
       "    <tr>\n",
       "      <th>1023</th>\n",
       "      <td>68</td>\n",
       "      <td>Sekhukhune District</td>\n",
       "      <td>Fetakgomo Tubatse LM</td>\n",
       "      <td>Mecklenburg team B</td>\n",
       "      <td>Mobile Outreach teams</td>\n",
       "      <td>J&amp;J</td>\n",
       "      <td>7/12/2021</td>\n",
       "      <td>Yes</td>\n",
       "      <td>4 days</td>\n",
       "      <td>NaN</td>\n",
       "      <td>-28.996321</td>\n",
       "      <td>25.087143</td>\n",
       "    </tr>\n",
       "    <tr>\n",
       "      <th>1024</th>\n",
       "      <td>69</td>\n",
       "      <td>Vhembe District</td>\n",
       "      <td>Makhado LM</td>\n",
       "      <td>Siloam Team A</td>\n",
       "      <td>Mobile Outreach team</td>\n",
       "      <td>J&amp;J</td>\n",
       "      <td>7/12/2021</td>\n",
       "      <td>Yes</td>\n",
       "      <td>4 days</td>\n",
       "      <td>NaN</td>\n",
       "      <td>-28.996321</td>\n",
       "      <td>25.087143</td>\n",
       "    </tr>\n",
       "    <tr>\n",
       "      <th>1025</th>\n",
       "      <td>70</td>\n",
       "      <td>Waterberg District</td>\n",
       "      <td>Mogalakwena LM</td>\n",
       "      <td>FH odendala team A</td>\n",
       "      <td>Mobile Outreach team</td>\n",
       "      <td>J&amp;J</td>\n",
       "      <td>7/12/2021</td>\n",
       "      <td>yes</td>\n",
       "      <td>4 days</td>\n",
       "      <td>NaN</td>\n",
       "      <td>-26.213550</td>\n",
       "      <td>28.161610</td>\n",
       "    </tr>\n",
       "  </tbody>\n",
       "</table>\n",
       "<p>1026 rows × 12 columns</p>\n",
       "</div>"
      ]
     },
     "metadata": {},
     "execution_count": 7
    }
   ],
   "metadata": {}
  },
  {
   "cell_type": "code",
   "execution_count": 8,
   "source": [
    "# Check the completeness of the data\r\n",
    "# find the rows where latitude is none\r\n",
    "\r\n",
    "print('Unique Coords:', 'lat:', len(sites_with_coords[\"Latitude\"].unique()), 'lon:', len(sites_with_coords['Longitude'].unique()))\r\n",
    "\r\n",
    "import geopandas as gpd\r\n",
    "\r\n",
    "sites_v2 = gpd.GeoDataFrame(sites_with_coords, geometry=gpd.points_from_xy(sites_with_coords['Longitude'], sites_with_coords['Latitude']))\r\n",
    "\r\n",
    "\r\n",
    "print(sites_with_coords.groupby('Latitude')['Latitude'].count().sort_values(ascending=False))\r\n",
    "print(sites_with_coords.groupby('Longitude')['Longitude'].count().sort_values(ascending=False).head(20))\r\n",
    "# sites_v2.plot(column='District')\r\n",
    "    \r\n"
   ],
   "outputs": [
    {
     "output_type": "stream",
     "name": "stdout",
     "text": [
      "Unique Coords: lat: 574 lon: 574\n",
      "Latitude\n",
      "-28.996321    167\n",
      "-29.579580     30\n",
      "-25.152700     17\n",
      "-31.736370     14\n",
      "-25.168860     11\n",
      "             ... \n",
      "-32.605690      1\n",
      "-32.657090      1\n",
      "-32.669560      1\n",
      "-32.692510      1\n",
      "-22.327040      1\n",
      "Name: Latitude, Length: 573, dtype: int64\n",
      "Longitude\n",
      "25.087143    167\n",
      "30.388820     30\n",
      "28.455150     17\n",
      "28.468560     14\n",
      "28.416670     11\n",
      "18.055760     10\n",
      "27.587020     10\n",
      "29.280050      8\n",
      "26.937390      8\n",
      "25.656710      7\n",
      "27.537840      6\n",
      "30.961160      6\n",
      "25.483920      6\n",
      "27.342410      6\n",
      "18.833110      5\n",
      "18.750000      5\n",
      "28.414680      4\n",
      "24.344680      4\n",
      "19.368740      4\n",
      "28.046110      4\n",
      "Name: Longitude, dtype: int64\n"
     ]
    }
   ],
   "metadata": {}
  },
  {
   "cell_type": "code",
   "execution_count": 109,
   "source": [],
   "outputs": [],
   "metadata": {}
  },
  {
   "cell_type": "markdown",
   "source": [
    "It seems like a lot of the results landed in the middle of south africa, we can exclude these results and and use the centroid of their subdistrict as the the marker."
   ],
   "metadata": {}
  },
  {
   "cell_type": "code",
   "execution_count": 10,
   "source": [
    "sites_v2.plot(column='District')"
   ],
   "outputs": [
    {
     "output_type": "execute_result",
     "data": {
      "text/plain": [
       "<AxesSubplot:>"
      ]
     },
     "metadata": {},
     "execution_count": 10
    },
    {
     "output_type": "display_data",
     "data": {
      "text/plain": [
       "<Figure size 432x288 with 1 Axes>"
      ],
      "image/png": "[encoded data removed]"
     },
     "metadata": {
      "needs_background": "light"
     }
    }
   ],
   "metadata": {}
  },
  {
   "cell_type": "code",
   "execution_count": 11,
   "source": [
    "#export the data\r\n",
    "\r\n",
    "sites_v2.to_file('../../data/sites_with_coords_estimated.json', driver='GeoJSON')"
   ],
   "outputs": [],
   "metadata": {}
  },
  {
   "cell_type": "code",
   "execution_count": null,
   "source": [],
   "outputs": [],
   "metadata": {}
  }
 ],
 "metadata": {
  "orig_nbformat": 4,
  "language_info": {
   "name": "python",
   "version": "3.9.5",
   "mimetype": "text/x-python",
   "codemirror_mode": {
    "name": "ipython",
    "version": 3
   },
   "pygments_lexer": "ipython3",
   "nbconvert_exporter": "python",
   "file_extension": ".py"
  },
  "kernelspec": {
   "name": "python3",
   "display_name": "Python 3.9.5 64-bit ('ee': conda)"
  },
  "interpreter": {
   "hash": "a116823dec45cb7224d5a504a171096dc235c79f68fff5cc82db9aea4f6ea7ce"
  }
 },
 "nbformat": 4,
 "nbformat_minor": 2
}