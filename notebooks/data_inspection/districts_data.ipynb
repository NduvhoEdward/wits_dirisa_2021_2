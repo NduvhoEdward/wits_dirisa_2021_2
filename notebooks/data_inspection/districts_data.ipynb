{
 "cells": [
  {
   "cell_type": "code",
   "execution_count": 1,
   "id": "ad305415",
   "metadata": {},
   "outputs": [],
   "source": [
    "import pandas as pd\n",
    "import numpy as np\n",
    "import matplotlib.pyplot as plt "
   ]
  },
  {
   "cell_type": "code",
   "execution_count": 3,
   "id": "5ef3514c",
   "metadata": {},
   "outputs": [],
   "source": [
    "dtset = \"../../data/zaf_admpop_adm2_2020.csv\"\n",
    "zaf = pd.read_csv(dtset, index_col=False)"
   ]
  },
  {
   "cell_type": "code",
   "execution_count": 4,
   "id": "e20c398a",
   "metadata": {},
   "outputs": [],
   "source": [
    "# Removed the Country and Country Code\n",
    "zaf = zaf.drop(['ADM0_EN', 'ADM0_PCODE'], axis=1)#, inplace=True)"
   ]
  },
  {
   "cell_type": "code",
   "execution_count": 5,
   "id": "b0da0125",
   "metadata": {},
   "outputs": [],
   "source": [
    "#Removing NaN raws\n",
    "zaf = zaf.dropna(axis=0, how=\"all\")\n",
    "zaf = zaf.dropna(axis=1, how='all')"
   ]
  },
  {
   "cell_type": "code",
   "execution_count": 6,
   "id": "690aeeb2",
   "metadata": {},
   "outputs": [],
   "source": [
    "#Sorting -- by district name\n",
    "zaf = zaf.sort_values(by=[\"ADM2_NAME\"], ascending=True) "
   ]
  },
  {
   "cell_type": "code",
   "execution_count": 7,
   "id": "df330776",
   "metadata": {},
   "outputs": [],
   "source": [
    "Dist_codes = ['DC44' ,'DC25' ,'DC12' ,'DC37' ,'BUF' ,'DC10' ,\n",
    "                'DC2' ,'DC35' ,'DC5' ,'DC13' ,'CPT', 'JHB', \n",
    "                'TSH', 'DC40' ,'DC39' ,'DC4' ,'DC32' ,'EKU' ,\n",
    "                'ETH' ,'DC20' ,'DC9' ,'DC30' ,'DC47' ,'DC29' ,\n",
    "                'DC14', 'DC45' ,'DC18' ,'MAN' ,'DC33' ,'DC6', \n",
    "                'NMA' ,'DC38' ,'DC31' ,'DC15', 'DC3' ,'DC7' ,\n",
    "                'DC42', 'DC43' ,'DC8' ,'DC19', 'DC21', 'DC22' ,\n",
    "                'DC27' ,'DC24', 'DC23' ,'DC28' ,'DC34' ,'DC36' ,\n",
    "                'DC1' ,'DC48' ,'DC16', 'DC26' ]\n",
    "\n",
    "zaf[\"DistictCodes\"] = Dist_codes "
   ]
  },
  {
   "cell_type": "code",
   "execution_count": 9,
   "id": "97f7b0c6",
   "metadata": {},
   "outputs": [],
   "source": [
    "zaf.to_csv(\"../../data/cleaned/zaf_admpop_adm2_2020.csv\", index=False)"
   ]
  },
  {
   "cell_type": "code",
   "execution_count": null,
   "id": "9e2d17c6",
   "metadata": {},
   "outputs": [],
   "source": []
  },
  {
   "cell_type": "code",
   "execution_count": null,
   "id": "836a3bd8",
   "metadata": {},
   "outputs": [],
   "source": []
  },
  {
   "cell_type": "code",
   "execution_count": 13,
   "id": "586fc665",
   "metadata": {},
   "outputs": [],
   "source": [
    "dtset = \"../../data/cleaned/sa_districts.csv\"\n",
    "districts = pd.read_csv(dtset) \n",
    "\n",
    "#Converting Distrit short names to UPPERCASE... \n",
    "#(to match the format on the other file)\n",
    "districts = districts.rename(columns={\"DISTRICT.1\":\"DISTRICT_1\"})\n",
    "districts[\"DISTRICT_1\"] = districts[\"DISTRICT_1\"].str.upper() "
   ]
  },
  {
   "cell_type": "code",
   "execution_count": null,
   "id": "c2abc118",
   "metadata": {},
   "outputs": [],
   "source": []
  },
  {
   "cell_type": "code",
   "execution_count": 16,
   "id": "863bc0b4",
   "metadata": {},
   "outputs": [
    {
     "data": {
      "text/html": [
       "<div>\n",
       "<style scoped>\n",
       "    .dataframe tbody tr th:only-of-type {\n",
       "        vertical-align: middle;\n",
       "    }\n",
       "\n",
       "    .dataframe tbody tr th {\n",
       "        vertical-align: top;\n",
       "    }\n",
       "\n",
       "    .dataframe thead th {\n",
       "        text-align: right;\n",
       "    }\n",
       "</style>\n",
       "<table border=\"1\" class=\"dataframe\">\n",
       "  <thead>\n",
       "    <tr style=\"text-align: right;\">\n",
       "      <th></th>\n",
       "      <th>PROVINCE</th>\n",
       "      <th>DISTRICT</th>\n",
       "      <th>DISTRICT_1</th>\n",
       "      <th>District_Name</th>\n",
       "      <th>Population</th>\n",
       "      <th>No. Public clinics</th>\n",
       "      <th>No. Public Hospitals</th>\n",
       "      <th>No. Private Clinics</th>\n",
       "      <th>No. Private Hospital</th>\n",
       "    </tr>\n",
       "  </thead>\n",
       "  <tbody>\n",
       "    <tr>\n",
       "      <th>0</th>\n",
       "      <td>GT</td>\n",
       "      <td>EKU</td>\n",
       "      <td>EKURHULENI</td>\n",
       "      <td>Ekurhuleni District Municipality EKU</td>\n",
       "      <td>3609251</td>\n",
       "      <td>88</td>\n",
       "      <td>7</td>\n",
       "      <td>106</td>\n",
       "      <td>33</td>\n",
       "    </tr>\n",
       "    <tr>\n",
       "      <th>1</th>\n",
       "      <td>GT</td>\n",
       "      <td>JHB</td>\n",
       "      <td>CITY OF JOHANNESBURG</td>\n",
       "      <td>City of Johannesburg District Municipality JHB</td>\n",
       "      <td>5316210</td>\n",
       "      <td>129</td>\n",
       "      <td>10</td>\n",
       "      <td>245</td>\n",
       "      <td>62</td>\n",
       "    </tr>\n",
       "    <tr>\n",
       "      <th>2</th>\n",
       "      <td>EC</td>\n",
       "      <td>BUF</td>\n",
       "      <td>BUFFALO CITY</td>\n",
       "      <td>Buffalo City District Municipality BUF</td>\n",
       "      <td>866515</td>\n",
       "      <td>80</td>\n",
       "      <td>4</td>\n",
       "      <td>19</td>\n",
       "      <td>8</td>\n",
       "    </tr>\n",
       "    <tr>\n",
       "      <th>3</th>\n",
       "      <td>EC</td>\n",
       "      <td>DC10</td>\n",
       "      <td>SARAH BAARTMAN</td>\n",
       "      <td>Sarah Baartman District Municipality DC10</td>\n",
       "      <td>532050</td>\n",
       "      <td>75</td>\n",
       "      <td>15</td>\n",
       "      <td>6</td>\n",
       "      <td>2</td>\n",
       "    </tr>\n",
       "    <tr>\n",
       "      <th>4</th>\n",
       "      <td>EC</td>\n",
       "      <td>DC12</td>\n",
       "      <td>AMATHOLE</td>\n",
       "      <td>Amathole District Municipality DC12</td>\n",
       "      <td>1002243</td>\n",
       "      <td>147</td>\n",
       "      <td>14</td>\n",
       "      <td>2</td>\n",
       "      <td>8</td>\n",
       "    </tr>\n",
       "  </tbody>\n",
       "</table>\n",
       "</div>"
      ],
      "text/plain": [
       "  PROVINCE DISTRICT            DISTRICT_1  \\\n",
       "0       GT      EKU            EKURHULENI   \n",
       "1       GT      JHB  CITY OF JOHANNESBURG   \n",
       "2       EC      BUF          BUFFALO CITY   \n",
       "3       EC     DC10        SARAH BAARTMAN   \n",
       "4       EC     DC12              AMATHOLE   \n",
       "\n",
       "                                    District_Name  Population  \\\n",
       "0            Ekurhuleni District Municipality EKU     3609251   \n",
       "1  City of Johannesburg District Municipality JHB     5316210   \n",
       "2          Buffalo City District Municipality BUF      866515   \n",
       "3       Sarah Baartman District Municipality DC10      532050   \n",
       "4             Amathole District Municipality DC12     1002243   \n",
       "\n",
       "   No. Public clinics  No. Public Hospitals  No. Private Clinics  \\\n",
       "0                  88                     7                  106   \n",
       "1                 129                    10                  245   \n",
       "2                  80                     4                   19   \n",
       "3                  75                    15                    6   \n",
       "4                 147                    14                    2   \n",
       "\n",
       "   No. Private Hospital  \n",
       "0                    33  \n",
       "1                    62  \n",
       "2                     8  \n",
       "3                     2  \n",
       "4                     8  "
      ]
     },
     "execution_count": 16,
     "metadata": {},
     "output_type": "execute_result"
    }
   ],
   "source": [
    "districts.drop(['Unnamed: 0', 'OBJECTID'], axis=1, inplace=True)\n",
    "districts.head()"
   ]
  },
  {
   "cell_type": "code",
   "execution_count": null,
   "id": "4fda80b6",
   "metadata": {},
   "outputs": [],
   "source": []
  },
  {
   "cell_type": "code",
   "execution_count": 18,
   "id": "f1f33294",
   "metadata": {},
   "outputs": [],
   "source": [
    "districts.to_csv(\"../../data/cleaned/sa_districts_v2.csv\", index=False) "
   ]
  },
  {
   "cell_type": "code",
   "execution_count": null,
   "id": "debbe951",
   "metadata": {},
   "outputs": [],
   "source": []
  },
  {
   "cell_type": "code",
   "execution_count": null,
   "id": "a0e73051",
   "metadata": {},
   "outputs": [],
   "source": []
  },
  {
   "cell_type": "code",
   "execution_count": null,
   "id": "cfcc6c4f",
   "metadata": {},
   "outputs": [],
   "source": []
  }
 ],
 "metadata": {
  "kernelspec": {
   "display_name": "Python 3 (ipykernel)",
   "language": "python",
   "name": "python3"
  },
  "language_info": {
   "codemirror_mode": {
    "name": "ipython",
    "version": 3
   },
   "file_extension": ".py",
   "mimetype": "text/x-python",
   "name": "python",
   "nbconvert_exporter": "python",
   "pygments_lexer": "ipython3",
   "version": "3.8.10"
  }
 },
 "nbformat": 4,
 "nbformat_minor": 5
}
