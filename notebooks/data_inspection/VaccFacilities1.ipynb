{
 "cells": [
  {
   "cell_type": "markdown",
   "id": "6dd5ad6c",
   "metadata": {},
   "source": [
    "## Data Preprocessing 1"
   ]
  },
  {
   "cell_type": "code",
   "execution_count": null,
   "id": "06c95dcb",
   "metadata": {},
   "outputs": [],
   "source": []
  },
  {
   "cell_type": "code",
   "execution_count": 1,
   "id": "bcfc2a66",
   "metadata": {},
   "outputs": [],
   "source": [
    "import pandas as pd\n",
    "import numpy as np\n",
    "import matplotlib.pyplot as plt "
   ]
  },
  {
   "cell_type": "code",
   "execution_count": null,
   "id": "a57ab6a4",
   "metadata": {},
   "outputs": [],
   "source": []
  },
  {
   "cell_type": "markdown",
   "id": "a93fe4bf",
   "metadata": {},
   "source": [
    "### VaccicarionFacilities"
   ]
  },
  {
   "cell_type": "code",
   "execution_count": null,
   "id": "cf62d1d9",
   "metadata": {},
   "outputs": [],
   "source": []
  },
  {
   "cell_type": "code",
   "execution_count": 2,
   "id": "7863338b",
   "metadata": {},
   "outputs": [
    {
     "data": {
      "text/html": [
       "<div>\n",
       "<style scoped>\n",
       "    .dataframe tbody tr th:only-of-type {\n",
       "        vertical-align: middle;\n",
       "    }\n",
       "\n",
       "    .dataframe tbody tr th {\n",
       "        vertical-align: top;\n",
       "    }\n",
       "\n",
       "    .dataframe thead th {\n",
       "        text-align: right;\n",
       "    }\n",
       "</style>\n",
       "<table border=\"1\" class=\"dataframe\">\n",
       "  <thead>\n",
       "    <tr style=\"text-align: right;\">\n",
       "      <th></th>\n",
       "      <th>Facility</th>\n",
       "      <th>Province</th>\n",
       "      <th>District</th>\n",
       "      <th>Sub-District</th>\n",
       "      <th>Private/Public</th>\n",
       "    </tr>\n",
       "  </thead>\n",
       "  <tbody>\n",
       "    <tr>\n",
       "      <th>0</th>\n",
       "      <td>Nelson Mandela Academic Hospital</td>\n",
       "      <td>Eastern Cape</td>\n",
       "      <td>O Tambo DM</td>\n",
       "      <td>King Sabata Dalindyebo LM</td>\n",
       "      <td>Public Health</td>\n",
       "    </tr>\n",
       "    <tr>\n",
       "      <th>1</th>\n",
       "      <td>Vryheid Hospital</td>\n",
       "      <td>KwaZulu-Natal</td>\n",
       "      <td>Zululand DM</td>\n",
       "      <td>AbaQulusi LM</td>\n",
       "      <td>Public Health</td>\n",
       "    </tr>\n",
       "    <tr>\n",
       "      <th>2</th>\n",
       "      <td>Esangweni CHC</td>\n",
       "      <td>Gauteng</td>\n",
       "      <td>Ekurhuleni MM</td>\n",
       "      <td>Ekurhuleni N1 SD</td>\n",
       "      <td>Public Health</td>\n",
       "    </tr>\n",
       "    <tr>\n",
       "      <th>3</th>\n",
       "      <td>Clicks Pharmacy Ulundi</td>\n",
       "      <td>KwaZulu-Natal</td>\n",
       "      <td>Zululand DM</td>\n",
       "      <td>Ulundi LM</td>\n",
       "      <td>Private Health</td>\n",
       "    </tr>\n",
       "    <tr>\n",
       "      <th>4</th>\n",
       "      <td>Estcourt Hospital</td>\n",
       "      <td>KwaZulu-Natal</td>\n",
       "      <td>Uthukela DM</td>\n",
       "      <td>Inkosi Langalibalele LM</td>\n",
       "      <td>Public Health</td>\n",
       "    </tr>\n",
       "  </tbody>\n",
       "</table>\n",
       "</div>"
      ],
      "text/plain": [
       "                           Facility       Province       District  \\\n",
       "0  Nelson Mandela Academic Hospital   Eastern Cape     O Tambo DM   \n",
       "1                  Vryheid Hospital  KwaZulu-Natal    Zululand DM   \n",
       "2                     Esangweni CHC        Gauteng  Ekurhuleni MM   \n",
       "3            Clicks Pharmacy Ulundi  KwaZulu-Natal    Zululand DM   \n",
       "4                 Estcourt Hospital  KwaZulu-Natal    Uthukela DM   \n",
       "\n",
       "                Sub-District  Private/Public  \n",
       "0  King Sabata Dalindyebo LM   Public Health  \n",
       "1               AbaQulusi LM   Public Health  \n",
       "2           Ekurhuleni N1 SD   Public Health  \n",
       "3                  Ulundi LM  Private Health  \n",
       "4    Inkosi Langalibalele LM   Public Health  "
      ]
     },
     "execution_count": 2,
     "metadata": {},
     "output_type": "execute_result"
    }
   ],
   "source": [
    "file = \"../../wits_dirisa_2021/data/Vaccinantion-facilities.csv\"\n",
    "vac_facil = pd.read_csv(file)\n",
    "vac_facil.head()"
   ]
  },
  {
   "cell_type": "code",
   "execution_count": 4,
   "id": "0307ea8f",
   "metadata": {},
   "outputs": [
    {
     "data": {
      "text/plain": [
       "Province       District         \n",
       "Eastern Cape   Amathole DM          10\n",
       "               C Hani DM             3\n",
       "               Joe Gqabi DM          1\n",
       "               N Mandela Bay MM      5\n",
       "               O Tambo DM            2\n",
       "               Sarah Baartman DM     3\n",
       "Free State     Mangaung MM           1\n",
       "               T Mofutsanyana DM     1\n",
       "Gauteng        Ekurhuleni MM         9\n",
       "               Johannesburg MM      19\n",
       "               Sedibeng DM           4\n",
       "               Tshwane MM            9\n",
       "               West Rand DM          9\n",
       "KwaZulu-Natal  Amajuba DM            4\n",
       "               Harry Gwala DM        1\n",
       "               King Cetshwayo DM     4\n",
       "               Ugu DM               10\n",
       "               Umkhanyakude DM       1\n",
       "               Umzinyathi DM         2\n",
       "               Uthukela DM           2\n",
       "Name: Facility, dtype: int64"
      ]
     },
     "execution_count": 4,
     "metadata": {},
     "output_type": "execute_result"
    }
   ],
   "source": [
    "# Counting/Observing the availability of vaccination facilities \n",
    "# per Province/District/Sub-District, whic can be compared/evaluated \n",
    "# against the available population data per given area\n",
    "\n",
    "x = vac_facil.groupby([\"Province\"\n",
    "                       ,\"District\"\n",
    "                       #,\"Sub-District\"\n",
    "                      ])[\"Facility\"].count()\n",
    "x.head(20)\n",
    "#vac_facil.head(10)\n"
   ]
  },
  {
   "cell_type": "code",
   "execution_count": null,
   "id": "7dc5cc4a",
   "metadata": {},
   "outputs": [],
   "source": []
  },
  {
   "cell_type": "code",
   "execution_count": null,
   "id": "32b81820",
   "metadata": {},
   "outputs": [],
   "source": []
  },
  {
   "cell_type": "code",
   "execution_count": null,
   "id": "78c6a715",
   "metadata": {},
   "outputs": [],
   "source": []
  }
 ],
 "metadata": {
  "kernelspec": {
   "display_name": "Python 3 (ipykernel)",
   "language": "python",
   "name": "python3"
  },
  "language_info": {
   "codemirror_mode": {
    "name": "ipython",
    "version": 3
   },
   "file_extension": ".py",
   "mimetype": "text/x-python",
   "name": "python",
   "nbconvert_exporter": "python",
   "pygments_lexer": "ipython3",
   "version": "3.8.10"
  }
 },
 "nbformat": 4,
 "nbformat_minor": 5
}
